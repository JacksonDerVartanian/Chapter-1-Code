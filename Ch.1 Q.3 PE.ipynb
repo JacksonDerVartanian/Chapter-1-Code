{
  "metadata": {
    "kernelspec": {
      "name": "python",
      "display_name": "Python (Pyodide)",
      "language": "python"
    },
    "language_info": {
      "codemirror_mode": {
        "name": "python",
        "version": 3
      },
      "file_extension": ".py",
      "mimetype": "text/x-python",
      "name": "python",
      "nbconvert_exporter": "python",
      "pygments_lexer": "ipython3",
      "version": "3.8"
    }
  },
  "nbformat_minor": 4,
  "nbformat": 4,
  "cells": [
    {
      "cell_type": "code",
      "source": "# Decimal numbers to convert\ndecimal_numbers = [11, 65, 100, 255]\n\n# Convert and print binary representations\nfor decimal_num in decimal_numbers:\n    binary_representation = bin(decimal_num)[2:]\n    print(f\"Decimal {decimal_num} is equivalent to binary {binary_representation}\")",
      "metadata": {
        "trusted": true
      },
      "outputs": [],
      "execution_count": null
    }
  ]
}